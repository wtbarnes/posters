{
 "cells": [
  {
   "cell_type": "markdown",
   "metadata": {},
   "source": [
    "# Timelag Maps\n",
    "Compute all of the timelag maps here for all heating frequencies and observations and then save the maps."
   ]
  },
  {
   "cell_type": "code",
   "execution_count": 1,
   "metadata": {},
   "outputs": [],
   "source": [
    "import os\n",
    "import sys\n",
    "\n",
    "import numpy as np\n",
    "import distributed\n",
    "import matplotlib.pyplot as plt\n",
    "import matplotlib.colors\n",
    "from sunpy.map import Map,GenericMap\n",
    "from astropy.coordinates import SkyCoord\n",
    "import astropy.units as u\n",
    "\n",
    "import synthesizAR\n",
    "from synthesizAR.instruments import InstrumentSDOAIA\n",
    "\n",
    "sys.path.append(os.path.join(os.environ['HOME'], 'projects/synthesized_timelag_maps/scripts/'))\n",
    "from aiacube import DistributedAIACube\n",
    "from timelags import AIATimeLags\n",
    "\n",
    "%matplotlib inline"
   ]
  },
  {
   "cell_type": "code",
   "execution_count": 2,
   "metadata": {
    "collapsed": true
   },
   "outputs": [],
   "source": [
    "channel_pairs = [(94,335),\n",
    "                 (94,171),\n",
    "                 (94,193),\n",
    "                 (94,131),\n",
    "                 (94,211),\n",
    "                 (335,131),\n",
    "                 (335,193),\n",
    "                 (335,211), \n",
    "                 (335,171),\n",
    "                 (211,131),\n",
    "                 (211,171),\n",
    "                 (211,193),\n",
    "                 (193,171),\n",
    "                 (193,131),\n",
    "                 (171,131),]"
   ]
  },
  {
   "cell_type": "code",
   "execution_count": 3,
   "metadata": {},
   "outputs": [],
   "source": [
    "timelag_bounds = (-6*u.hour,6*u.hour)"
   ]
  },
  {
   "cell_type": "code",
   "execution_count": 4,
   "metadata": {},
   "outputs": [],
   "source": [
    "channels = [94,131,171,193,211,335]\n",
    "read_template = '/storage-home/w/wtb2/data/timelag_synthesis_v2/{}/nei/SDO_AIA/{}/map_t{:06d}.fits'\n",
    "save_template = '/storage-home/w/wtb2/data/shine2018/{}_{}_{}.fits'"
   ]
  },
  {
   "cell_type": "code",
   "execution_count": 5,
   "metadata": {},
   "outputs": [
    {
     "data": {
      "text/html": [
       "<table style=\"border: 2px solid white;\">\n",
       "<tr>\n",
       "<td style=\"vertical-align: top; border: 0px solid white\">\n",
       "<h3>Client</h3>\n",
       "<ul>\n",
       "  <li><b>Scheduler: </b>tcp://127.0.0.1:42871\n",
       "  <li><b>Dashboard: </b><a href='http://127.0.0.1:8787/status' target='_blank'>http://127.0.0.1:8787/status</a>\n",
       "</ul>\n",
       "</td>\n",
       "<td style=\"vertical-align: top; border: 0px solid white\">\n",
       "<h3>Cluster</h3>\n",
       "<ul>\n",
       "  <li><b>Workers: </b>64</li>\n",
       "  <li><b>Cores: </b>64</li>\n",
       "  <li><b>Memory: </b>270.38 GB</li>\n",
       "</ul>\n",
       "</td>\n",
       "</tr>\n",
       "</table>"
      ],
      "text/plain": [
       "<Client: scheduler='tcp://127.0.0.1:42871' processes=64 cores=64>"
      ]
     },
     "execution_count": 5,
     "metadata": {},
     "output_type": "execute_result"
    }
   ],
   "source": [
    "cluster = distributed.LocalCluster(n_workers=64,threads_per_worker=1)\n",
    "client = distributed.Client(cluster)\n",
    "client"
   ]
  },
  {
   "cell_type": "markdown",
   "metadata": {},
   "source": [
    "## Models"
   ]
  },
  {
   "cell_type": "code",
   "execution_count": 6,
   "metadata": {},
   "outputs": [],
   "source": [
    "frequencies = ['high_frequency','intermediate_frequency','low_frequency',\n",
    "               'cooling','cooling_outofphase_long']"
   ]
  },
  {
   "cell_type": "code",
   "execution_count": 7,
   "metadata": {},
   "outputs": [],
   "source": [
    "for f in frequencies:\n",
    "    irange = range(500,2500) if f!='cooling' else range(0,1000)\n",
    "    tl_cubes = AIATimeLags(*[DistributedAIACube.from_files([read_template.format(f,c,i) for i in irange])\n",
    "                             for c in channels])\n",
    "    for ca,cb in channel_pairs:\n",
    "        tmap,cmap = tl_cubes.make_timelag_map(float(ca),float(cb),\n",
    "                                              timelag_bounds=timelag_bounds,\n",
    "                                              return_correlation_map=True)\n",
    "        tmap.save(save_template.format(f,f'{ca}-{cb}','timelag'))\n",
    "        cmap.save(save_template.format(f,f'{ca}-{cb}','correlation'))"
   ]
  },
  {
   "cell_type": "markdown",
   "metadata": {},
   "source": [
    "## Data\n",
    "Need to figure out what to do here since interpolating cube in Dask is challenging..."
   ]
  },
  {
   "cell_type": "code",
   "execution_count": null,
   "metadata": {},
   "outputs": [],
   "source": []
  }
 ],
 "metadata": {
  "kernelspec": {
   "display_name": "Python [conda env:synthesized-timelags]",
   "language": "python",
   "name": "conda-env-synthesized-timelags-py"
  },
  "language_info": {
   "codemirror_mode": {
    "name": "ipython",
    "version": 3
   },
   "file_extension": ".py",
   "mimetype": "text/x-python",
   "name": "python",
   "nbconvert_exporter": "python",
   "pygments_lexer": "ipython3",
   "version": "3.6.6"
  }
 },
 "nbformat": 4,
 "nbformat_minor": 2
}
