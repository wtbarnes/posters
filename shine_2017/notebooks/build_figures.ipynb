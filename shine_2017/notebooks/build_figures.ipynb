{
 "cells": [
  {
   "cell_type": "markdown",
   "metadata": {},
   "source": [
    "# Build Figures for SHINE 2017 Poster\n",
    "Some figures for my poster at SHINE 2017. Use reduced data from my Loops Workshop talk."
   ]
  },
  {
   "cell_type": "code",
   "execution_count": 1,
   "metadata": {
    "collapsed": false
   },
   "outputs": [
    {
     "name": "stderr",
     "output_type": "stream",
     "text": [
      "/home/wtb2/anaconda3/envs/systematic-ar-study/lib/python3.5/site-packages/IPython/html.py:14: ShimWarning: The `IPython.html` package has been deprecated. You should import from `notebook` instead. `IPython.html.widgets` has moved to `ipywidgets`.\n",
      "  \"`IPython.html.widgets` has moved to `ipywidgets`.\", ShimWarning)\n",
      "WARNING: AstropyDeprecationWarning: astropy.utils.compat.odict.OrderedDict is now deprecated - import OrderedDict from the collections module instead [astropy.utils.compat.odict]\n",
      "/home/wtb2/anaconda3/envs/systematic-ar-study/lib/python3.5/site-packages/matplotlib/__init__.py:1401: UserWarning:  This call to matplotlib.use() has no effect\n",
      "because the backend has already been chosen;\n",
      "matplotlib.use() must be called *before* pylab, matplotlib.pyplot,\n",
      "or matplotlib.backends is imported for the first time.\n",
      "\n",
      "  warnings.warn(_use_error_msg)\n"
     ]
    },
    {
     "name": "stdout",
     "output_type": "stream",
     "text": [
      " using cli\n",
      " using CLI for selections\n",
      " reading chiantirc file\n"
     ]
    }
   ],
   "source": [
    "import os\n",
    "import glob\n",
    "\n",
    "import numpy as np\n",
    "from scipy.optimize import curve_fit\n",
    "from scipy.interpolate import interp1d,splev,splrep\n",
    "from scipy.ndimage import map_coordinates,gaussian_filter\n",
    "import matplotlib.pyplot as plt\n",
    "import matplotlib.colors\n",
    "from matplotlib.ticker import MaxNLocator\n",
    "import seaborn.apionly as sns\n",
    "import astropy.units as u\n",
    "import astropy.constants as const\n",
    "from sunpy.map import Map,GenericMap\n",
    "from ChiantiPy.tools import filters as ch_filters\n",
    "\n",
    "import synthesizAR\n",
    "from synthesizAR.instruments import InstrumentSDOAIA,InstrumentHinodeEIS\n",
    "from synthesizAR.util import EISCube,EMCube\n",
    "from synthesizAR.atomic import EmissionModel\n",
    "from synthesizAR.model_ext import power_law_transform\n",
    "\n",
    "sns.set_palette('deep')\n",
    "\n",
    "%matplotlib inline"
   ]
  },
  {
   "cell_type": "code",
   "execution_count": 2,
   "metadata": {
    "collapsed": true
   },
   "outputs": [],
   "source": [
    "frequencies = [250,750,2500,5000]"
   ]
  },
  {
   "cell_type": "markdown",
   "metadata": {},
   "source": [
    "## Forward Modeling"
   ]
  },
  {
   "cell_type": "markdown",
   "metadata": {},
   "source": [
    "## Heating Model"
   ]
  },
  {
   "cell_type": "code",
   "execution_count": 3,
   "metadata": {
    "collapsed": true
   },
   "outputs": [],
   "source": [
    "event_energies = {'{}'.format(freq):[] for freq in frequencies}\n",
    "event_wait_times = {'{}'.format(freq):[] for freq in frequencies}"
   ]
  },
  {
   "cell_type": "code",
   "execution_count": 4,
   "metadata": {
    "collapsed": false
   },
   "outputs": [
    {
     "name": "stderr",
     "output_type": "stream",
     "text": [
      "No HMI fits file supplied. A new HMI map object will not be created.\n",
      "yt : [INFO     ] 2017-07-18 16:32:43,357 Parameters: current_time              = 0.0\n",
      "yt : [INFO     ] 2017-07-18 16:32:43,358 Parameters: domain_dimensions         = [96 96 96]\n",
      "yt : [INFO     ] 2017-07-18 16:32:43,359 Parameters: domain_left_edge          = [  8.88147851e+09   1.66017386e+09   7.23009049e+08]\n",
      "yt : [INFO     ] 2017-07-18 16:32:43,360 Parameters: domain_right_edge         = [  4.35656994e+10   3.67056887e+10   3.54274434e+10]\n",
      "yt : [INFO     ] 2017-07-18 16:32:43,361 Parameters: cosmological_simulation   = 0.0\n",
      "No HMI fits file supplied. A new HMI map object will not be created.\n",
      "yt : [INFO     ] 2017-07-18 16:32:44,349 Parameters: current_time              = 0.0\n",
      "yt : [INFO     ] 2017-07-18 16:32:44,350 Parameters: domain_dimensions         = [96 96 96]\n",
      "yt : [INFO     ] 2017-07-18 16:32:44,351 Parameters: domain_left_edge          = [  8.88147851e+09   1.66017386e+09   7.23009049e+08]\n",
      "yt : [INFO     ] 2017-07-18 16:32:44,352 Parameters: domain_right_edge         = [  4.35656994e+10   3.67056887e+10   3.54274434e+10]\n",
      "yt : [INFO     ] 2017-07-18 16:32:44,353 Parameters: cosmological_simulation   = 0.0\n",
      "No HMI fits file supplied. A new HMI map object will not be created.\n",
      "yt : [INFO     ] 2017-07-18 16:32:45,482 Parameters: current_time              = 0.0\n",
      "yt : [INFO     ] 2017-07-18 16:32:45,483 Parameters: domain_dimensions         = [96 96 96]\n",
      "yt : [INFO     ] 2017-07-18 16:32:45,484 Parameters: domain_left_edge          = [  8.88147851e+09   1.66017386e+09   7.23009049e+08]\n",
      "yt : [INFO     ] 2017-07-18 16:32:45,485 Parameters: domain_right_edge         = [  4.35656994e+10   3.67056887e+10   3.54274434e+10]\n",
      "yt : [INFO     ] 2017-07-18 16:32:45,486 Parameters: cosmological_simulation   = 0.0\n",
      "No HMI fits file supplied. A new HMI map object will not be created.\n",
      "yt : [INFO     ] 2017-07-18 16:32:46,385 Parameters: current_time              = 0.0\n",
      "yt : [INFO     ] 2017-07-18 16:32:46,386 Parameters: domain_dimensions         = [96 96 96]\n",
      "yt : [INFO     ] 2017-07-18 16:32:46,387 Parameters: domain_left_edge          = [  8.88147851e+09   1.66017386e+09   7.23009049e+08]\n",
      "yt : [INFO     ] 2017-07-18 16:32:46,388 Parameters: domain_right_edge         = [  4.35656994e+10   3.67056887e+10   3.54274434e+10]\n",
      "yt : [INFO     ] 2017-07-18 16:32:46,389 Parameters: cosmological_simulation   = 0.0\n"
     ]
    }
   ],
   "source": [
    "for freq in frequencies:\n",
    "    if type(freq) == int:\n",
    "        field = synthesizAR.Skeleton.restore('/data/datadrive1/ar_forward_modeling/systematic_ar_study/noaa1109_tn{}/field_checkpoint/'.format(freq))\n",
    "    else:\n",
    "        field = synthesizAR.Skeleton.restore('/data/datadrive2/ar_viz/systematic_ar_study/noaa1109_tn750-ion/field_checkpoint/')\n",
    "    for loop in field.loops:\n",
    "        num_events = len(loop.hydro_configuration['heating']['events'])\n",
    "        tmp_event_energies = []\n",
    "        for i,event in enumerate(loop.hydro_configuration['heating']['events']):\n",
    "            if i > 0:\n",
    "                event_wait_times['{}'.format(freq)].append(event['event']['rise_start'] \n",
    "                                        - loop.hydro_configuration['heating']['events'][i-1]['event']['rise_end'])\n",
    "            tmp_event_energies.append(event['event']['magnitude'])\n",
    "            event_energies['{}'.format(freq)].append(event['event']['magnitude'])"
   ]
  },
  {
   "cell_type": "code",
   "execution_count": 8,
   "metadata": {
    "collapsed": false
   },
   "outputs": [
    {
     "data": {
      "image/png": "[encoded data removed]",
      "text/plain": [
       "<matplotlib.figure.Figure at 0x7f3f6d196780>"
      ]
     },
     "metadata": {},
     "output_type": "display_data"
    }
   ],
   "source": [
    "fig = plt.figure(figsize=(8,8))\n",
    "ax = fig.gca()\n",
    "for freq in [250,750,2500,5000]:\n",
    "    ax.hist(event_wait_times['{}'.format(freq)],\n",
    "            log=True,bins='fd',histtype='step',lw=2,\n",
    "            label=r'$\\langle t_N\\rangle={}$ s'.format(freq))\n",
    "ax.set_xscale('log')\n",
    "ax.set_ylim([1,5e3])\n",
    "ax.set_xlim([9e1,2e4])\n",
    "ax.set_xlabel(r'$t_N$ [s]')\n",
    "ax.set_ylabel(r'Number of Events')\n",
    "leg = ax.legend(loc=1,frameon=False)\n",
    "fig.savefig('../figures/wait_time_distributions.pdf',dpi=1000)"
   ]
  },
  {
   "cell_type": "markdown",
   "metadata": {},
   "source": [
    "## Spectroscopic Details"
   ]
  },
  {
   "cell_type": "markdown",
   "metadata": {},
   "source": [
    "## Emission Measure Distributions"
   ]
  },
  {
   "cell_type": "markdown",
   "metadata": {},
   "source": [
    "## Emission Measure Slopes"
   ]
  },
  {
   "cell_type": "markdown",
   "metadata": {},
   "source": [
    "## Slope Distributions"
   ]
  },
  {
   "cell_type": "code",
   "execution_count": null,
   "metadata": {
    "collapsed": true
   },
   "outputs": [],
   "source": []
  }
 ],
 "metadata": {
  "kernelspec": {
   "display_name": "Python [conda env:systematic-ar-study]",
   "language": "python",
   "name": "conda-env-systematic-ar-study-py"
  },
  "language_info": {
   "codemirror_mode": {
    "name": "ipython",
    "version": 3
   },
   "file_extension": ".py",
   "mimetype": "text/x-python",
   "name": "python",
   "nbconvert_exporter": "python",
   "pygments_lexer": "ipython3",
   "version": "3.5.3"
  }
 },
 "nbformat": 4,
 "nbformat_minor": 2
}
